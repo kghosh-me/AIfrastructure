{
 "cells": [
  {
   "cell_type": "code",
   "execution_count": 11,
   "metadata": {},
   "outputs": [
    {
     "name": "stdout",
     "output_type": "stream",
     "text": [
      "The autoreload extension is already loaded. To reload it, use:\n",
      "  %reload_ext autoreload\n"
     ]
    }
   ],
   "source": [
    "import pandas as pd\n",
    "import fcts as engine\n",
    "\n",
    "%load_ext autoreload "
   ]
  },
  {
   "attachments": {},
   "cell_type": "markdown",
   "metadata": {},
   "source": [
    "# Getting the texts"
   ]
  },
  {
   "cell_type": "code",
   "execution_count": 2,
   "metadata": {},
   "outputs": [
    {
     "name": "stdout",
     "output_type": "stream",
     "text": [
      "All pages already there\n"
     ]
    }
   ],
   "source": [
    "engine.getPages()"
   ]
  },
  {
   "attachments": {},
   "cell_type": "markdown",
   "metadata": {},
   "source": [
    "# Processing the texts"
   ]
  },
  {
   "cell_type": "code",
   "execution_count": 3,
   "metadata": {},
   "outputs": [
    {
     "data": {
      "text/plain": [
       "2"
      ]
     },
     "execution_count": 3,
     "metadata": {},
     "output_type": "execute_result"
    }
   ],
   "source": [
    "dfText = engine.getTexts()\n",
    "len(dfText)"
   ]
  },
  {
   "attachments": {},
   "cell_type": "markdown",
   "metadata": {},
   "source": [
    "# Consolidating the learning"
   ]
  },
  {
   "cell_type": "code",
   "execution_count": 10,
   "metadata": {},
   "outputs": [
    {
     "data": {
      "text/html": [
       "<div>\n",
       "<style scoped>\n",
       "    .dataframe tbody tr th:only-of-type {\n",
       "        vertical-align: middle;\n",
       "    }\n",
       "\n",
       "    .dataframe tbody tr th {\n",
       "        vertical-align: top;\n",
       "    }\n",
       "\n",
       "    .dataframe thead th {\n",
       "        text-align: right;\n",
       "    }\n",
       "</style>\n",
       "<table border=\"1\" class=\"dataframe\">\n",
       "  <thead>\n",
       "    <tr style=\"text-align: right;\">\n",
       "      <th></th>\n",
       "      <th>signal</th>\n",
       "      <th>change</th>\n",
       "      <th>10y impact</th>\n",
       "      <th>driving force</th>\n",
       "      <th>title</th>\n",
       "      <th>keywords</th>\n",
       "      <th>themes</th>\n",
       "      <th>summary</th>\n",
       "      <th>src</th>\n",
       "      <th>id</th>\n",
       "    </tr>\n",
       "  </thead>\n",
       "  <tbody>\n",
       "    <tr>\n",
       "      <th>0</th>\n",
       "      <td>Integration of GPT models in building design</td>\n",
       "      <td>From tacit knowledge to empirical intelligence</td>\n",
       "      <td>Building design becomes an empirical, adaptive...</td>\n",
       "      <td>Empowerment of architects to explore uncharted...</td>\n",
       "      <td>From Tacit Knowledge to Empirical Intelligence</td>\n",
       "      <td>Daisy\\nAI\\nBuilding Design\\nEmpirical Intellig...</td>\n",
       "      <td>Transformation\\nEmpowerment\\nBuilding Design\\n...</td>\n",
       "      <td>The integration of GPT models in Daisy-AI is t...</td>\n",
       "      <td>A Journey from Tacit Knowledge to Empirical In...</td>\n",
       "      <td>32c95d5b99fd070cf66a7b6f278185e3</td>\n",
       "    </tr>\n",
       "    <tr>\n",
       "      <th>1</th>\n",
       "      <td>Transformation of design assumptions</td>\n",
       "      <td>From pre-established norms to data-driven world</td>\n",
       "      <td>Design assumptions are continuously tested and...</td>\n",
       "      <td>Integration of AI and human creativity</td>\n",
       "      <td>From Tacit Knowledge to Empirical Intelligence</td>\n",
       "      <td>Daisy\\nAI\\nBuilding Design\\nEmpirical Intellig...</td>\n",
       "      <td>Transformation\\nEmpowerment\\nBuilding Design\\n...</td>\n",
       "      <td>The integration of GPT models in Daisy-AI is t...</td>\n",
       "      <td>A Journey from Tacit Knowledge to Empirical In...</td>\n",
       "      <td>32c95d5b99fd070cf66a7b6f278185e3</td>\n",
       "    </tr>\n",
       "    <tr>\n",
       "      <th>2</th>\n",
       "      <td>Empowerment of architects</td>\n",
       "      <td>Architects are empowered to move beyond the kn...</td>\n",
       "      <td>Architects become generative co-pilots, laying...</td>\n",
       "      <td>Integration of AI and human creativity</td>\n",
       "      <td>From Tacit Knowledge to Empirical Intelligence</td>\n",
       "      <td>Daisy\\nAI\\nBuilding Design\\nEmpirical Intellig...</td>\n",
       "      <td>Transformation\\nEmpowerment\\nBuilding Design\\n...</td>\n",
       "      <td>The integration of GPT models in Daisy-AI is t...</td>\n",
       "      <td>A Journey from Tacit Knowledge to Empirical In...</td>\n",
       "      <td>32c95d5b99fd070cf66a7b6f278185e3</td>\n",
       "    </tr>\n",
       "    <tr>\n",
       "      <th>3</th>\n",
       "      <td>Increased use of generative AI in architecture...</td>\n",
       "      <td>Manual design to AI-assisted design</td>\n",
       "      <td>Streamlined design processes, enhanced creativ...</td>\n",
       "      <td>Desire for efficiency and innovation in archit...</td>\n",
       "      <td>Impact of Generative AI in Architecture</td>\n",
       "      <td>generative AI\\narchitecture\\ndesign\\noptimise ...</td>\n",
       "      <td>revolution\\ncreativity\\nefficiency</td>\n",
       "      <td>Generative AI is revolutionizing the field of ...</td>\n",
       "      <td>- Revolutionising the design process\\n- Zaha H...</td>\n",
       "      <td>0cc91d2881a4d6c85ce90675766a5c90</td>\n",
       "    </tr>\n",
       "    <tr>\n",
       "      <th>4</th>\n",
       "      <td>Integration of generative AI as a source of in...</td>\n",
       "      <td>Traditional brainstorming to AI-generated insp...</td>\n",
       "      <td>Enhanced creativity and innovation in architec...</td>\n",
       "      <td>Desire for new design ideas and creative concepts</td>\n",
       "      <td>Impact of Generative AI in Architecture</td>\n",
       "      <td>generative AI\\narchitecture\\ndesign\\noptimise ...</td>\n",
       "      <td>revolution\\ncreativity\\nefficiency</td>\n",
       "      <td>Generative AI is revolutionizing the field of ...</td>\n",
       "      <td>- Revolutionising the design process\\n- Zaha H...</td>\n",
       "      <td>0cc91d2881a4d6c85ce90675766a5c90</td>\n",
       "    </tr>\n",
       "    <tr>\n",
       "      <th>5</th>\n",
       "      <td>Development of tools to optimize building perf...</td>\n",
       "      <td>Linear design process to AI-driven performance...</td>\n",
       "      <td>More sustainable and user-friendly architectur...</td>\n",
       "      <td>Environmental standards and desire for efficie...</td>\n",
       "      <td>Impact of Generative AI in Architecture</td>\n",
       "      <td>generative AI\\narchitecture\\ndesign\\noptimise ...</td>\n",
       "      <td>revolution\\ncreativity\\nefficiency</td>\n",
       "      <td>Generative AI is revolutionizing the field of ...</td>\n",
       "      <td>- Revolutionising the design process\\n- Zaha H...</td>\n",
       "      <td>0cc91d2881a4d6c85ce90675766a5c90</td>\n",
       "    </tr>\n",
       "  </tbody>\n",
       "</table>\n",
       "</div>"
      ],
      "text/plain": [
       "                                              signal  \\\n",
       "0       Integration of GPT models in building design   \n",
       "1               Transformation of design assumptions   \n",
       "2                          Empowerment of architects   \n",
       "3  Increased use of generative AI in architecture...   \n",
       "4  Integration of generative AI as a source of in...   \n",
       "5  Development of tools to optimize building perf...   \n",
       "\n",
       "                                              change  \\\n",
       "0     From tacit knowledge to empirical intelligence   \n",
       "1    From pre-established norms to data-driven world   \n",
       "2  Architects are empowered to move beyond the kn...   \n",
       "3                Manual design to AI-assisted design   \n",
       "4  Traditional brainstorming to AI-generated insp...   \n",
       "5  Linear design process to AI-driven performance...   \n",
       "\n",
       "                                          10y impact  \\\n",
       "0  Building design becomes an empirical, adaptive...   \n",
       "1  Design assumptions are continuously tested and...   \n",
       "2  Architects become generative co-pilots, laying...   \n",
       "3  Streamlined design processes, enhanced creativ...   \n",
       "4  Enhanced creativity and innovation in architec...   \n",
       "5  More sustainable and user-friendly architectur...   \n",
       "\n",
       "                                       driving force  \\\n",
       "0  Empowerment of architects to explore uncharted...   \n",
       "1             Integration of AI and human creativity   \n",
       "2             Integration of AI and human creativity   \n",
       "3  Desire for efficiency and innovation in archit...   \n",
       "4  Desire for new design ideas and creative concepts   \n",
       "5  Environmental standards and desire for efficie...   \n",
       "\n",
       "                                            title  \\\n",
       "0  From Tacit Knowledge to Empirical Intelligence   \n",
       "1  From Tacit Knowledge to Empirical Intelligence   \n",
       "2  From Tacit Knowledge to Empirical Intelligence   \n",
       "3         Impact of Generative AI in Architecture   \n",
       "4         Impact of Generative AI in Architecture   \n",
       "5         Impact of Generative AI in Architecture   \n",
       "\n",
       "                                            keywords  \\\n",
       "0  Daisy\\nAI\\nBuilding Design\\nEmpirical Intellig...   \n",
       "1  Daisy\\nAI\\nBuilding Design\\nEmpirical Intellig...   \n",
       "2  Daisy\\nAI\\nBuilding Design\\nEmpirical Intellig...   \n",
       "3  generative AI\\narchitecture\\ndesign\\noptimise ...   \n",
       "4  generative AI\\narchitecture\\ndesign\\noptimise ...   \n",
       "5  generative AI\\narchitecture\\ndesign\\noptimise ...   \n",
       "\n",
       "                                              themes  \\\n",
       "0  Transformation\\nEmpowerment\\nBuilding Design\\n...   \n",
       "1  Transformation\\nEmpowerment\\nBuilding Design\\n...   \n",
       "2  Transformation\\nEmpowerment\\nBuilding Design\\n...   \n",
       "3                 revolution\\ncreativity\\nefficiency   \n",
       "4                 revolution\\ncreativity\\nefficiency   \n",
       "5                 revolution\\ncreativity\\nefficiency   \n",
       "\n",
       "                                             summary  \\\n",
       "0  The integration of GPT models in Daisy-AI is t...   \n",
       "1  The integration of GPT models in Daisy-AI is t...   \n",
       "2  The integration of GPT models in Daisy-AI is t...   \n",
       "3  Generative AI is revolutionizing the field of ...   \n",
       "4  Generative AI is revolutionizing the field of ...   \n",
       "5  Generative AI is revolutionizing the field of ...   \n",
       "\n",
       "                                                 src  \\\n",
       "0  A Journey from Tacit Knowledge to Empirical In...   \n",
       "1  A Journey from Tacit Knowledge to Empirical In...   \n",
       "2  A Journey from Tacit Knowledge to Empirical In...   \n",
       "3  - Revolutionising the design process\\n- Zaha H...   \n",
       "4  - Revolutionising the design process\\n- Zaha H...   \n",
       "5  - Revolutionising the design process\\n- Zaha H...   \n",
       "\n",
       "                                 id  \n",
       "0  32c95d5b99fd070cf66a7b6f278185e3  \n",
       "1  32c95d5b99fd070cf66a7b6f278185e3  \n",
       "2  32c95d5b99fd070cf66a7b6f278185e3  \n",
       "3  0cc91d2881a4d6c85ce90675766a5c90  \n",
       "4  0cc91d2881a4d6c85ce90675766a5c90  \n",
       "5  0cc91d2881a4d6c85ce90675766a5c90  "
      ]
     },
     "execution_count": 10,
     "metadata": {},
     "output_type": "execute_result"
    }
   ],
   "source": [
    "dfs = []\n",
    "for ix, row in dfText.iterrows():\n",
    "    for seed in [\"\"]:\n",
    "        df = engine.reviewText(row[\"content\"],modelGPT=\"gpt-3.5-turbo-1106\", ow=False,seed=seed)\n",
    "        df[\"src\"] = row[\"content\"]\n",
    "        df[\"id\"] = row[\"hash\"]\n",
    "        dfs.append(df)\n",
    "dfs = pd.concat(dfs).reset_index(drop=True)\n",
    "dfs.to_parquet(\"data/DB.parquet.gzip\",compression=\"gzip\")\n",
    "dfs"
   ]
  }
 ],
 "metadata": {
  "kernelspec": {
   "display_name": "Python 3",
   "language": "python",
   "name": "python3"
  },
  "language_info": {
   "codemirror_mode": {
    "name": "ipython",
    "version": 3
   },
   "file_extension": ".py",
   "mimetype": "text/x-python",
   "name": "python",
   "nbconvert_exporter": "python",
   "pygments_lexer": "ipython3",
   "version": "3.10.12"
  },
  "orig_nbformat": 4,
  "vscode": {
   "interpreter": {
    "hash": "e7370f93d1d0cde622a1f8e1c04877d8463912d04d973331ad4851f04de6915a"
   }
  }
 },
 "nbformat": 4,
 "nbformat_minor": 2
}
